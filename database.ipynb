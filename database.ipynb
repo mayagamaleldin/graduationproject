{
 "cells": [
  {
   "cell_type": "markdown",
   "id": "97df265e",
   "metadata": {},
   "source": [
    "# SQLite"
   ]
  },
  {
   "cell_type": "code",
   "execution_count": 1,
   "id": "2cc93076",
   "metadata": {},
   "outputs": [],
   "source": [
    "import sqlite3\n",
    "import json\n",
    "from typing import Dict, Any\n",
    "\n",
    "class Database:\n",
    "    def __init__(self, db_path: str):\n",
    "        \"\"\"\n",
    "        Initialize SQLite database connection.\n",
    "        :param db_path: Path to the SQLite .db file\n",
    "        \"\"\"\n",
    "        try:\n",
    "            self.connection = sqlite3.connect(db_path)\n",
    "            # Enable accessing rows as dicts\n",
    "            self.connection.row_factory = sqlite3.Row\n",
    "            self.cursor = self.connection.cursor()\n",
    "            print(\"🔌 Database connection successful\")\n",
    "        except sqlite3.Error as e:\n",
    "            print(f\"❌ Database connection failed: {e}\")\n",
    "            raise\n",
    "\n",
    "    def _create_table_if_not_exists(self):\n",
    "        \"\"\"\n",
    "        Ensure the user_profiles table exists with the correct schema.\n",
    "        \"\"\"\n",
    "        try:\n",
    "            self.cursor.execute(\n",
    "                \"\"\"\n",
    "                CREATE TABLE IF NOT EXISTS user_profiles (\n",
    "                    id INTEGER PRIMARY KEY AUTOINCREMENT,\n",
    "                    first_name TEXT NOT NULL,\n",
    "                    last_name TEXT NOT NULL,\n",
    "                    age INTEGER,\n",
    "                    gender TEXT,\n",
    "                    marital_status TEXT,\n",
    "                    education TEXT,\n",
    "                    job TEXT,\n",
    "                    location TEXT,\n",
    "                    first_interest TEXT,\n",
    "                    first_interest_percentage INTEGER,\n",
    "                    second_interest TEXT,\n",
    "                    second_interest_percentage INTEGER,\n",
    "                    third_interest TEXT,\n",
    "                    third_interest_percentage INTEGER,\n",
    "                    personality_summary TEXT,\n",
    "                    key_activities TEXT,\n",
    "                    total_posts INTEGER,\n",
    "                    top_habits TEXT,\n",
    "                    top_hobby TEXT,\n",
    "                    travel_indicators TEXT,\n",
    "                    life_indicators TEXT,\n",
    "                    spending_indicators TEXT,\n",
    "                    created_at TIMESTAMP DEFAULT CURRENT_TIMESTAMP\n",
    "                )\n",
    "                \"\"\"\n",
    "            )\n",
    "            self.connection.commit()\n",
    "            print(\"✅ Table verified/created successfully\")\n",
    "        except sqlite3.Error as e:\n",
    "            print(f\"❌ Table creation failed: {e}\")\n",
    "            raise\n",
    "\n",
    "    def insert_user_profile(self, profile_data: Dict[str, Any]) -> bool:\n",
    "        \"\"\"\n",
    "        Insert a user profile into the database with transaction handling.\n",
    "        :param profile_data: Dictionary containing user profile fields and interest lists\n",
    "        :return: True on success, False otherwise\n",
    "        \"\"\"\n",
    "        try:\n",
    "            self._create_table_if_not_exists()\n",
    "\n",
    "            interests = profile_data.get(\"top_interests\", [{} for _ in range(3)])\n",
    "\n",
    "            sql = (\n",
    "                \"\"\"\n",
    "                INSERT INTO user_profiles (\n",
    "                    first_name, last_name, age, gender, marital_status, education, job, location,\n",
    "                    first_interest, first_interest_percentage,\n",
    "                    second_interest, second_interest_percentage,\n",
    "                    third_interest, third_interest_percentage,\n",
    "                    personality_summary, key_activities, total_posts, top_habits,\n",
    "                    top_hobby, travel_indicators, life_indicators, spending_indicators\n",
    "                ) VALUES (\n",
    "                    ?, ?, ?, ?, ?, ?, ?, ?, ?, ?, ?, ?, ?, ?, ?, ?, ?, ?, ?, ?, ?, ?\n",
    "                )\n",
    "                \"\"\"\n",
    "            )\n",
    "\n",
    "            values = (\n",
    "                profile_data.get(\"first_name\", \"\"),\n",
    "                profile_data.get(\"last_name\", \"\"),\n",
    "                profile_data.get(\"age\"),\n",
    "                profile_data.get(\"gender\", \"\"),\n",
    "                profile_data.get(\"marital_status\", \"\"),\n",
    "                profile_data.get(\"education\", \"\"),\n",
    "                profile_data.get(\"job\", \"\"),\n",
    "                profile_data.get(\"location\", \"\"),\n",
    "                interests[0].get(\"interest\", \"\"),\n",
    "                interests[0].get(\"percentage\", 0),\n",
    "                interests[1].get(\"interest\", \"\"),\n",
    "                interests[1].get(\"percentage\", 0),\n",
    "                interests[2].get(\"interest\", \"\"),\n",
    "                interests[2].get(\"percentage\", 0),\n",
    "                profile_data.get(\"personality_summary\", \"\"),\n",
    "                json.dumps(profile_data.get(\"key_activities\", [])),\n",
    "                profile_data.get(\"total_posts\", 0),\n",
    "                json.dumps(profile_data.get(\"top_habits\", [])),\n",
    "                profile_data.get(\"top_hobby\", \"\"),\n",
    "                profile_data.get(\"travel_indicators\", \"\"),\n",
    "                json.dumps(profile_data.get(\"life_indicators\", [])),\n",
    "                json.dumps(profile_data.get(\"spending_indicators\", []))\n",
    "            )\n",
    "\n",
    "            self.cursor.execute(sql, values)\n",
    "            self.connection.commit()\n",
    "            print(\"✅ Profile inserted successfully\")\n",
    "            return True\n",
    "\n",
    "        except sqlite3.Error as e:\n",
    "            self.connection.rollback()\n",
    "            print(f\"❌ Database error: {e}\")\n",
    "            return False\n",
    "        except Exception as e:\n",
    "            self.connection.rollback()\n",
    "            print(f\"❌ Unexpected error: {e}\")\n",
    "            return False\n",
    "        finally:\n",
    "            self.close()\n",
    "\n",
    "    def close(self):\n",
    "        \"\"\"\n",
    "        Close the database connection and cursor.\n",
    "        \"\"\"\n",
    "        try:\n",
    "            if hasattr(self, 'cursor'):\n",
    "                self.cursor.close()\n",
    "            if hasattr(self, 'connection'):\n",
    "                self.connection.close()\n",
    "            print(\"🔌 Database connection closed\")\n",
    "        except Exception as e:\n",
    "            print(f\"❌ Error closing connection: {e}\")\n"
   ]
  },
  {
   "cell_type": "code",
   "execution_count": 2,
   "id": "ba568179",
   "metadata": {},
   "outputs": [
    {
     "name": "stdout",
     "output_type": "stream",
     "text": [
      "🔌 Database connection successful\n"
     ]
    }
   ],
   "source": [
    "db = Database(\"test_profiles.db\")\n"
   ]
  },
  {
   "cell_type": "code",
   "execution_count": 3,
   "id": "b1fa664d",
   "metadata": {},
   "outputs": [],
   "source": [
    "\n",
    "sample_profile = {\n",
    "    \"first_name\": \"John\",\n",
    "    \"last_name\": \"Doe\",\n",
    "    \"age\": 28,\n",
    "    \"gender\": \"Male\",\n",
    "    \"marital_status\": \"Single\",\n",
    "    \"education\": \"Bachelor's in Computer Science\",\n",
    "    \"job\": \"Software Engineer\",\n",
    "    \"location\": \"Cairo, Egypt\",\n",
    "    \"top_interests\": [\n",
    "        {\"interest\": \"Technology\", \"percentage\": 70},\n",
    "        {\"interest\": \"Traveling\", \"percentage\": 20},\n",
    "        {\"interest\": \"Reading\", \"percentage\": 10}\n",
    "    ],\n",
    "    \"personality_summary\": \"Enthusiastic and proactive learner.\",\n",
    "    \"key_activities\": [\"Coding\", \"Blogging\", \"Hiking\"],\n",
    "    \"total_posts\": 45,\n",
    "    \"top_habits\": [\"Morning run\", \"Reading news\"],\n",
    "    \"top_hobby\": \"Photography\",\n",
    "    \"travel_indicators\": \"Frequent traveler\",\n",
    "    \"life_indicators\": [\"Outgoing\", \"Family-oriented\"],\n",
    "    \"spending_indicators\": [\"Budget-conscious\"]\n",
    "}"
   ]
  },
  {
   "cell_type": "code",
   "execution_count": 4,
   "id": "2c818eec",
   "metadata": {},
   "outputs": [
    {
     "name": "stdout",
     "output_type": "stream",
     "text": [
      "✅ Table verified/created successfully\n",
      "✅ Profile inserted successfully\n",
      "🔌 Database connection closed\n",
      "Insert successful: True\n"
     ]
    }
   ],
   "source": [
    "inserted = db.insert_user_profile(sample_profile)\n",
    "print(f\"Insert successful: {inserted}\")\n",
    "\n"
   ]
  },
  {
   "cell_type": "code",
   "execution_count": 5,
   "id": "8938280f",
   "metadata": {},
   "outputs": [
    {
     "name": "stdout",
     "output_type": "stream",
     "text": [
      "{'id': 1, 'first_name': 'John', 'last_name': 'Doe', 'age': 28, 'gender': 'Male', 'marital_status': 'Single', 'education': \"Bachelor's in Computer Science\", 'job': 'Software Engineer', 'location': 'Cairo, Egypt', 'first_interest': 'Technology', 'first_interest_percentage': 70, 'second_interest': 'Traveling', 'second_interest_percentage': 20, 'third_interest': 'Reading', 'third_interest_percentage': 10, 'personality_summary': 'Enthusiastic and proactive learner.', 'key_activities': '[\"Coding\", \"Blogging\", \"Hiking\"]', 'total_posts': 45, 'top_habits': '[\"Morning run\", \"Reading news\"]', 'top_hobby': 'Photography', 'travel_indicators': 'Frequent traveler', 'life_indicators': '[\"Outgoing\", \"Family-oriented\"]', 'spending_indicators': '[\"Budget-conscious\"]', 'created_at': '2025-07-09 21:52:41'}\n"
     ]
    }
   ],
   "source": [
    "# Verify insertion by querying directly\n",
    "conn = sqlite3.connect(\"test_profiles.db\")\n",
    "conn.row_factory = sqlite3.Row\n",
    "cur = conn.cursor()\n",
    "cur.execute(\"SELECT * FROM user_profiles\")\n",
    "rows = cur.fetchall()\n",
    "for row in rows:\n",
    "    print(dict(row))\n",
    "cur.close()\n",
    "conn.close()"
   ]
  },
  {
   "cell_type": "markdown",
   "id": "f8f642ab",
   "metadata": {},
   "source": [
    "# Mysql"
   ]
  },
  {
   "cell_type": "code",
   "execution_count": null,
   "id": "8961c7c7",
   "metadata": {},
   "outputs": [],
   "source": [
    "import pymysql\n",
    "mydb = pymysql.connect(host=\"\", user=\"\", password=\"\")"
   ]
  },
  {
   "cell_type": "code",
   "execution_count": 2,
   "id": "c46cff1a",
   "metadata": {},
   "outputs": [],
   "source": [
    "mycursor = mydb.cursor()"
   ]
  },
  {
   "cell_type": "code",
   "execution_count": 3,
   "id": "fdaa7a58",
   "metadata": {},
   "outputs": [
    {
     "data": {
      "text/plain": [
       "0"
      ]
     },
     "execution_count": 3,
     "metadata": {},
     "output_type": "execute_result"
    }
   ],
   "source": [
    "mycursor.execute(\"USE mydatabase\")"
   ]
  },
  {
   "cell_type": "code",
   "execution_count": 6,
   "metadata": {},
   "outputs": [
    {
     "data": {
      "text/plain": [
       "0"
      ]
     },
     "execution_count": 6,
     "metadata": {},
     "output_type": "execute_result"
    }
   ],
   "source": [
    "mycursor.execute(\"\"\"CREATE TABLE user_profiles (\n",
    "    first_name VARCHAR(50) NOT NULL,\n",
    "    last_name VARCHAR(50) NOT NULL,\n",
    "    age INT,\n",
    "    gender VARCHAR(20),\n",
    "    marital_status VARCHAR(50),\n",
    "    education VARCHAR(100),\n",
    "    job VARCHAR(100),\n",
    "    location VARCHAR(100),\n",
    "    \n",
    "    -- Top interests as separate columns\n",
    "    first_interest VARCHAR(50),\n",
    "    first_interest_percentage INT,\n",
    "    second_interest VARCHAR(50),\n",
    "    second_interest_percentage INT,\n",
    "    third_interest VARCHAR(50),\n",
    "    third_interest_percentage INT,\n",
    "    \n",
    "    personality_summary TEXT,\n",
    "    \n",
    "    -- Activities (stored as JSON array)\n",
    "    key_activities TEXT,\n",
    "    \n",
    "    total_posts INT,\n",
    "    \n",
    "    -- Habits (stored as JSON array)\n",
    "    top_habits TEXT,\n",
    "    \n",
    "    top_hobby VARCHAR(100),\n",
    "    travel_indicators VARCHAR(50),\n",
    "    \n",
    "    -- Life indicators (stored as JSON array)\n",
    "    life_indicators TEXT,\n",
    "    \n",
    "    -- Spending indicators (stored as JSON array)\n",
    "    spending_indicators TEXT\n",
    ")\"\"\")"
   ]
  },
  {
   "cell_type": "code",
   "execution_count": null,
   "id": "cb903746",
   "metadata": {},
   "outputs": [],
   "source": [
    "from typing import Dict, Any\n",
    "import pymysql\n",
    "import json\n",
    "\n",
    "class Database:\n",
    "    def __init__(self, host: str, user: str, password: str, db: str):\n",
    "        \"\"\"Initialize the database connection\"\"\"\n",
    "        self.connection = pymysql.connect(\n",
    "            host=host,\n",
    "            user=user,\n",
    "            password=password,\n",
    "            db=db,\n",
    "            cursorclass=pymysql.cursors.DictCursor\n",
    "        )\n",
    "        self.cursor = self.connection.cursor()\n",
    "\n",
    "    def insert_user_profile(self, profile_data: Dict[str, Any]) -> bool:\n",
    "        \"\"\"Insert a user profile into the database\"\"\"\n",
    "        try:\n",
    "            # Convert lists to JSON strings\n",
    "            key_activities = json.dumps(profile_data.get(\"key_activities\", []))\n",
    "            top_habits = json.dumps(profile_data.get(\"top_habits\", []))\n",
    "            life_indicators = json.dumps(profile_data.get(\"life_indicators\", []))\n",
    "            spending_indicators = json.dumps(profile_data.get(\"spending_indicators\", []))\n",
    "            \n",
    "            # Get interests from the top_interests list\n",
    "            interests = profile_data.get(\"top_interests\", [{} for _ in range(3)])\n",
    "            \n",
    "            sql = \"\"\"\n",
    "            INSERT INTO user_profiles (\n",
    "                first_name, last_name, age, gender, marital_status, education, job, location,\n",
    "                first_interest, first_interest_percentage,\n",
    "                second_interest, second_interest_percentage,\n",
    "                third_interest, third_interest_percentage,\n",
    "                personality_summary, key_activities, total_posts, top_habits,\n",
    "                top_hobby, travel_indicators, life_indicators, spending_indicators\n",
    "            ) VALUES (\n",
    "                %s, %s, %s, %s, %s, %s, %s, %s,\n",
    "                %s, %s, %s, %s, %s, %s,\n",
    "                %s, %s, %s, %s, %s, %s, %s, %s\n",
    "            )\n",
    "            \"\"\"\n",
    "\n",
    "            values = (\n",
    "                profile_data.get(\"first_name\"),\n",
    "                profile_data.get(\"last_name\"),\n",
    "                profile_data.get(\"age\"),\n",
    "                profile_data.get(\"gender\"),\n",
    "                profile_data.get(\"marital_status\"),\n",
    "                profile_data.get(\"education\"),\n",
    "                profile_data.get(\"job\"),\n",
    "                profile_data.get(\"location\"),\n",
    "                interests[0].get(\"interest\"),\n",
    "                interests[0].get(\"percentage\"),\n",
    "                interests[1].get(\"interest\"),\n",
    "                interests[1].get(\"percentage\"),\n",
    "                interests[2].get(\"interest\"),\n",
    "                interests[2].get(\"percentage\"),\n",
    "                profile_data.get(\"personality_summary\"),\n",
    "                key_activities,\n",
    "                profile_data.get(\"total_posts\"),\n",
    "                top_habits,\n",
    "                profile_data.get(\"top_hobby\"),\n",
    "                profile_data.get(\"travel_indicators\"),\n",
    "                life_indicators,\n",
    "                spending_indicators\n",
    "            )\n",
    "\n",
    "            self.cursor.execute(sql, values)\n",
    "            self.connection.commit()\n",
    "            self.logger.info(f\"Successfully inserted profile for {profile_data.get('first_name')} {profile_data.get('last_name')}\")\n",
    "            return True\n",
    "\n",
    "        except pymysql.MySQLError as e:\n",
    "            self.logger.error(f\"Error inserting user profile: {e}\")\n",
    "            return False\n",
    "        except Exception as e:\n",
    "            self.logger.error(f\"Unexpected error: {e}\")\n",
    "            return False\n"
   ]
  },
  {
   "cell_type": "code",
   "execution_count": null,
   "id": "dbda0820",
   "metadata": {},
   "outputs": [],
   "source": []
  }
 ],
 "metadata": {
  "kernelspec": {
   "display_name": "base",
   "language": "python",
   "name": "python3"
  },
  "language_info": {
   "codemirror_mode": {
    "name": "ipython",
    "version": 3
   },
   "file_extension": ".py",
   "mimetype": "text/x-python",
   "name": "python",
   "nbconvert_exporter": "python",
   "pygments_lexer": "ipython3",
   "version": "3.12.2"
  }
 },
 "nbformat": 4,
 "nbformat_minor": 5
}
